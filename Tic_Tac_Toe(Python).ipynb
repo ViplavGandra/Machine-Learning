{
 "cells": [
  {
   "cell_type": "markdown",
   "metadata": {},
   "source": [
    "Firstly, we will be writing a function in order to display a 3 by 3 board. Below is the simple way how we can actually create a board by creating simple lists."
   ]
  },
  {
   "cell_type": "code",
   "execution_count": 2,
   "metadata": {},
   "outputs": [],
   "source": [
    "row1 = ['', '', '']\n",
    "row2 = ['', '', '']\n",
    "row3 = ['', '', '']"
   ]
  },
  {
   "cell_type": "code",
   "execution_count": 3,
   "metadata": {},
   "outputs": [],
   "source": [
    "def display(row1, row2, row3):\n",
    "    print(row1)\n",
    "    print(row2)\n",
    "    print(row3)"
   ]
  },
  {
   "cell_type": "code",
   "execution_count": 5,
   "metadata": {},
   "outputs": [
    {
     "name": "stdout",
     "output_type": "stream",
     "text": [
      "['', '', '']\n",
      "['', '', '']\n",
      "['', '', '']\n"
     ]
    }
   ],
   "source": [
    "display(row1, row2, row3)"
   ]
  },
  {
   "cell_type": "code",
   "execution_count": 6,
   "metadata": {},
   "outputs": [],
   "source": [
    "row1[0] = 'X'"
   ]
  },
  {
   "cell_type": "code",
   "execution_count": 7,
   "metadata": {},
   "outputs": [],
   "source": [
    "row2[1] = 'O'\n",
    "row3[2] = 'X'"
   ]
  },
  {
   "cell_type": "code",
   "execution_count": 8,
   "metadata": {},
   "outputs": [
    {
     "name": "stdout",
     "output_type": "stream",
     "text": [
      "['X', '', '']\n",
      "['', 'O', '']\n",
      "['', '', 'X']\n"
     ]
    }
   ],
   "source": [
    "display(row1, row2, row3)"
   ]
  },
  {
   "cell_type": "code",
   "execution_count": 9,
   "metadata": {},
   "outputs": [],
   "source": [
    "from IPython.display import clear_output"
   ]
  },
  {
   "cell_type": "code",
   "execution_count": 12,
   "metadata": {},
   "outputs": [],
   "source": [
    "def display_board(board):\n",
    "    print(board[7] + '|' + board[8] + '|' + board[9])\n",
    "    print(board[4] + '|' + board[5] + '|' + board[6])\n",
    "    print(board[1] + '|' + board[2] + '|' + board[3])\n",
    "    "
   ]
  },
  {
   "cell_type": "code",
   "execution_count": 13,
   "metadata": {},
   "outputs": [
    {
     "name": "stdout",
     "output_type": "stream",
     "text": [
      "O|O|X\n",
      "O|X|O\n",
      "X|O|X\n"
     ]
    }
   ],
   "source": [
    "sys_board = ['#', 'X', 'O', 'X', 'O', 'X', 'O', 'O', 'O', 'X']\n",
    "display_board(sys_board)"
   ]
  },
  {
   "cell_type": "markdown",
   "metadata": {},
   "source": [
    "Now, writing a function which takes in the player input and assign the player marker as 'X' or 'O' respectively. Just think of the original tic tac toe game and visualize the game in your mind and follow the the steps in order. "
   ]
  },
  {
   "cell_type": "code",
   "execution_count": 14,
   "metadata": {},
   "outputs": [],
   "source": [
    "def player_input():\n",
    "    marker = ''\n",
    "    while marker != 'X' and marker != 'O':\n",
    "        marker = input('Player1: Choose X or O:  ').upper()\n",
    "        \n",
    "    if marker == 'X':\n",
    "        return ('X', 'O')\n",
    "    else:\n",
    "        return ('O')"
   ]
  },
  {
   "cell_type": "code",
   "execution_count": 15,
   "metadata": {},
   "outputs": [
    {
     "name": "stdout",
     "output_type": "stream",
     "text": [
      "Player1: Choose X or O:  x\n"
     ]
    }
   ],
   "source": [
    "player1_marker, player2_marker = player_input()"
   ]
  },
  {
   "cell_type": "code",
   "execution_count": 17,
   "metadata": {},
   "outputs": [
    {
     "data": {
      "text/plain": [
       "'O'"
      ]
     },
     "execution_count": 17,
     "metadata": {},
     "output_type": "execute_result"
    }
   ],
   "source": [
    "player2_marker"
   ]
  },
  {
   "cell_type": "markdown",
   "metadata": {},
   "source": [
    "Define a function which takes in the user input which is X or O and the position which is actually from 1-9 and assigns it to the board. This can be achieved by defining the 3 parameters by name marker, position and board. Let's see it below:"
   ]
  },
  {
   "cell_type": "code",
   "execution_count": 18,
   "metadata": {},
   "outputs": [],
   "source": [
    "def place_marker(board, marker, position):\n",
    "    board[position] = marker"
   ]
  },
  {
   "cell_type": "code",
   "execution_count": 19,
   "metadata": {},
   "outputs": [],
   "source": [
    "place_marker(sys_board, '@', 7)"
   ]
  },
  {
   "cell_type": "code",
   "execution_count": 20,
   "metadata": {},
   "outputs": [
    {
     "name": "stdout",
     "output_type": "stream",
     "text": [
      "@|O|X\n",
      "O|X|O\n",
      "X|O|X\n"
     ]
    }
   ],
   "source": [
    "display_board(sys_board)"
   ]
  },
  {
   "cell_type": "markdown",
   "metadata": {},
   "source": [
    "Now, we will be writing a function to check whether the player has won or not. Just writing in all the possible combinations and checking to see if the mark has won. "
   ]
  },
  {
   "cell_type": "code",
   "execution_count": 27,
   "metadata": {},
   "outputs": [],
   "source": [
    "def win_check(board, mark):\n",
    "    # check in all the rows i.e there are 3 possible ways for a player to win.\n",
    "    # all columns\n",
    "    #two diagonals\n",
    "    return ((board[7] == mark and board[8] == mark and board[9] == mark) or\n",
    "    (board[4] == mark and board[5] == mark and board[6] == mark) or\n",
    "    (board[1] == mark and board[2] == mark and board[3] == mark) or\n",
    "    (board[7] == mark and board[4] == mark and board[1] == mark) or\n",
    "    (board[8] == mark and board[5] == mark and board[2] == mark) or\n",
    "    (board[9] == mark and board[6] == mark and board[3] == mark) or\n",
    "    (board[1] == mark and board[5] == mark and board[9] == mark) or\n",
    "    (board[7] == mark and board[5] == mark and board[3] == mark)) \n",
    "    \n",
    "    "
   ]
  },
  {
   "cell_type": "code",
   "execution_count": 29,
   "metadata": {},
   "outputs": [
    {
     "name": "stdout",
     "output_type": "stream",
     "text": [
      "@|O|X\n",
      "O|X|O\n",
      "X|O|X\n"
     ]
    },
    {
     "data": {
      "text/plain": [
       "False"
      ]
     },
     "execution_count": 29,
     "metadata": {},
     "output_type": "execute_result"
    }
   ],
   "source": [
    "display_board(sys_board)\n",
    "win_check(sys_board, 'O')"
   ]
  },
  {
   "cell_type": "code",
   "execution_count": 32,
   "metadata": {},
   "outputs": [],
   "source": [
    "#just like a coin based when the player chooses 0, player1 goes first. For this, we can use random function\n",
    "import random\n",
    "def choose_first():\n",
    "    flip = random.randint(0,1)\n",
    "    if flip == 0:\n",
    "        return 'Player 1'\n",
    "    else:\n",
    "        return 'Player2'"
   ]
  },
  {
   "cell_type": "code",
   "execution_count": 33,
   "metadata": {},
   "outputs": [],
   "source": [
    "def space_check(board, position):\n",
    "    return board[position] == ''"
   ]
  },
  {
   "cell_type": "code",
   "execution_count": 42,
   "metadata": {},
   "outputs": [],
   "source": [
    "def full_board_check(board):\n",
    "    \n",
    "    for item in range(1,10):    #because we have total 9 positions on the board\n",
    "        if space_check(board, item):\n",
    "            return False\n",
    "        \n",
    "    else:\n",
    "        return True\n",
    "    "
   ]
  },
  {
   "cell_type": "markdown",
   "metadata": {},
   "source": [
    "Here, we will be defining function by player_choice to ask for the players next position and also checks whether that choosen position is free or not from the above space_check function which we have defined. If yes, then return that specific position"
   ]
  },
  {
   "cell_type": "code",
   "execution_count": 39,
   "metadata": {},
   "outputs": [],
   "source": [
    "def player_choice(board):\n",
    "    position = 0\n",
    "    \n",
    "    while position not in [1,2,3,4,5,6,7,8,9] or not space_check:\n",
    "        position = int(input('Choose a position (1,9):  '))\n",
    "        \n",
    "    return position"
   ]
  },
  {
   "cell_type": "code",
   "execution_count": 40,
   "metadata": {},
   "outputs": [],
   "source": [
    "def replay():\n",
    "    choice = input('Do you want to play again? Enter Yes or No ')\n",
    "    return choice == 'Yes'"
   ]
  },
  {
   "cell_type": "markdown",
   "metadata": {},
   "source": [
    "Now, comes the hardest part of the lecture. We will be combining all the functions which we have defined above logically"
   ]
  },
  {
   "cell_type": "code",
   "execution_count": null,
   "metadata": {},
   "outputs": [
    {
     "name": "stdout",
     "output_type": "stream",
     "text": [
      "Welcome to TIC-TAC-TOE\n",
      "Player1: Choose X or O:  X\n",
      "Player 1will go first\n",
      "Ready to play? y or ny\n",
      " | | \n",
      " | | \n",
      " | | \n",
      "Choose a position (1,9):  4\n",
      " | | \n",
      "X| | \n",
      " | | \n",
      "The game is TIE\n",
      "Do you want to play again? Enter Yes or No Yes\n"
     ]
    }
   ],
   "source": [
    "print('Welcome to TIC-TAC-TOE')\n",
    "\n",
    "while True:\n",
    "    #play the game\n",
    "    \n",
    "    \n",
    "    the_board = [' '] * 10\n",
    "    \n",
    "    player1_marker, playeer2_marker = player_input()\n",
    "    \n",
    "    turn = choose_first()\n",
    "    print(turn + 'will go first')\n",
    "    \n",
    "    play_game = input('Ready to play? y or n')\n",
    "    \n",
    "    if play_game == 'y':\n",
    "        game_on = True\n",
    "    else:\n",
    "        game_on = False\n",
    "        \n",
    "    while game_on:\n",
    "        \n",
    "        if turn == 'Player 1':\n",
    "            display_board(the_board)\n",
    "                \n",
    "                #choose a position\n",
    "            position = player_choice(the_board)\n",
    "                \n",
    "                #place marker on position\n",
    "                \n",
    "            place_marker(the_board, player1_marker, position)\n",
    "                \n",
    "                #checking whether they have won the game or not\n",
    "                \n",
    "            if win_check(the_board, player1_marker):\n",
    "                display_board(the_board)\n",
    "                print('Player1 has won the game')\n",
    "                game_on = False\n",
    "                    \n",
    "            else:\n",
    "                if full_board_check(the_board):\n",
    "                        display_board(the_board)\n",
    "                        \n",
    "                        print('The game is TIE')\n",
    "                        game_on = False\n",
    "                else:\n",
    "                    turn = 'Player2'\n",
    "                        \n",
    "                    \n",
    "        else:\n",
    "            display_board(the_board)\n",
    "                \n",
    "                #choose a position\n",
    "            position = player_choice(the_board)\n",
    "                \n",
    "                #place marker on position\n",
    "                \n",
    "            place_marker(the_board, player2_marker, position)\n",
    "                \n",
    "                #checking whether they have won the game or not\n",
    "                \n",
    "            if win_check(the_board, player2_marker):\n",
    "                display_board(the_board)\n",
    "                print('Player2 has won the game')\n",
    "                game_on = False\n",
    "                    \n",
    "            else:\n",
    "                if full_board_check(the_board):\n",
    "                        display_board(the_board)\n",
    "                        \n",
    "                        print('The game is TIE')\n",
    "                        game_on = False\n",
    "                else:\n",
    "                    turn = 'Player1'\n",
    "            \n",
    "    \n",
    "    if not replay():\n",
    "        break\n",
    "    \n",
    "    \n",
    "    \n",
    "    \n",
    "    "
   ]
  },
  {
   "cell_type": "code",
   "execution_count": null,
   "metadata": {},
   "outputs": [],
   "source": []
  },
  {
   "cell_type": "code",
   "execution_count": null,
   "metadata": {},
   "outputs": [],
   "source": []
  },
  {
   "cell_type": "code",
   "execution_count": null,
   "metadata": {},
   "outputs": [],
   "source": []
  }
 ],
 "metadata": {
  "kernelspec": {
   "display_name": "Python 3",
   "language": "python",
   "name": "python3"
  },
  "language_info": {
   "codemirror_mode": {
    "name": "ipython",
    "version": 3
   },
   "file_extension": ".py",
   "mimetype": "text/x-python",
   "name": "python",
   "nbconvert_exporter": "python",
   "pygments_lexer": "ipython3",
   "version": "3.8.5"
  }
 },
 "nbformat": 4,
 "nbformat_minor": 4
}
